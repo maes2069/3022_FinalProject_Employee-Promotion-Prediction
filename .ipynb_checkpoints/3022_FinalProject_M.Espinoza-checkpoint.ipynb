{
 "cells": [
  {
   "cell_type": "markdown",
   "id": "282d3dee-f71b-4f78-a26c-eaf655464c65",
   "metadata": {},
   "source": [
    "# Final Project: HR Analytics - Employee Promotion Prediction\n",
    "Margarita Espinoza  [maes2069@colorado.edu]  \n",
    "CSPB 3022 - Spring 2023"
   ]
  },
  {
   "cell_type": "code",
   "execution_count": 1,
   "id": "d40fe82a-a7b9-41ac-86a5-306866262131",
   "metadata": {
    "tags": []
   },
   "outputs": [],
   "source": [
    "%matplotlib inline\n",
    "import numpy as np\n",
    "import scipy as sp\n",
    "import scipy.stats as stats\n",
    "import pandas as pd\n",
    "import matplotlib.pyplot as plt\n",
    "import os\n",
    "\n",
    "from sklearn.model_selection import train_test_split\n",
    "from sklearn.naive_bayes import GaussianNB\n",
    "from sklearn.metrics import classification_report"
   ]
  },
  {
   "cell_type": "markdown",
   "id": "57b08945-2e40-4c9e-8134-8f606788f2eb",
   "metadata": {
    "tags": []
   },
   "source": [
    "## Part 1: Project Topic & Data Cleaning / EDA"
   ]
  },
  {
   "cell_type": "markdown",
   "id": "9674f000-cad0-4bbb-85d8-6a2f65af4ded",
   "metadata": {
    "tags": []
   },
   "source": [
    "### Project Topic  "
   ]
  },
  {
   "cell_type": "markdown",
   "id": "4ebf2ba9-2ae5-4986-86dd-d59cc9220c85",
   "metadata": {},
   "source": [
    "*Note: My project topic has changed since submitting part 1*\n",
    "\n",
    "**PART 1 SUBMISSION:**  \n",
    "This project is a classification problem, set to predict whether an employee in the dataset is likely to be promoted or not after the EDA process. This problem is important to solve because it makes the internal hiring process more efficient AND it allows hiring managers to see ALL potential candidates based on performance data. In addition, I would like to discover patterns and outliers related to gender, age, education, and department.  \n",
    "\n",
    "My goal is to predict if a candidate is likely to receive a promotion or not and to use that information to add a column named 'promotion_likely' with a binary yes/no identifier for each candidate.\n",
    "\n",
    "**PART 2 SUBMISSION:**  \n",
    "This dataset was collected to predict whether an employee in a mulit-national company is likely to be promoted or not after the EDA process. There were 2 datasests included in the Kaggle repository, one before the promotion prediction and one after that includes the binary 'is_promoted' column. My initial thought was to perform a binary classification algorithm to predict wheter each employee is likely to be promoted or not and then compare it to the data in the 'is_promoted' column, which is described above in the 'PART 1 SUBMISSION' section. \n",
    "\n",
    "Instead of attempting to predict if an employee will be pomoted or not, I will be using Naive Bayesian Classification and target feature 'is_promoted' to determine the probability of being promoted given different attributes such as gender, education, trainings, awards, and years of service.\n",
    "\n",
    "My goal is to learn details about this company's promotion criteria and how features related to things that are controllable by the employee (such as education) and not controllable (like age and gender) impact their probability of being promoted."
   ]
  },
  {
   "cell_type": "markdown",
   "id": "917f7b27-c76a-48aa-aca7-f31bfc264824",
   "metadata": {},
   "source": [
    "### Bonus  \n",
    "\n",
    "I think changing my idea and detetermining probabilites of being promoted based on features is more interesting than simply determining if an employee will be promoted or not! I understand that this type of data analysis was not the intention for this dataset, as mentioned in Kaggle, however its my opinion that it could uncover trends about their promomtion criteria that any company may be interested in researching further. "
   ]
  },
  {
   "cell_type": "markdown",
   "id": "45040ed3-e081-419d-8e82-d6efef0b199f",
   "metadata": {
    "tags": []
   },
   "source": [
    "### Data  "
   ]
  },
  {
   "cell_type": "markdown",
   "id": "2550ce4d-bb2b-4952-aae2-9a1a9a84fbc5",
   "metadata": {},
   "source": [
    "**About Dataset**  \n",
    "This dataset was found on Kaggle and originates from a large multi-national company wanting to identify potential promotion candidates across their organization in order to expedite the hiring process. Multiple attributes have been provided around Employee's past and current performance along with demographics to evaluate eligibility.\n",
    " \n",
    "\n",
    "**Features:**  \n",
    "\n",
    "- employee_id: Unique ID for employee (int64)\n",
    "- department: Department of employee (object)\n",
    "- region: Region of employment (unordered) (object)\n",
    "- education: Education Level (object)\n",
    "- gender: Gender of Employee (object)\n",
    "- recruitment_channel: Channel of recruitment for employee (object)\n",
    "- no_ of_ trainings: no of other trainings completed in previous year on soft skills, technical skills etc. (int64)\n",
    "- age: Age of Employee (int64)\n",
    "- previous_ year_ rating: Employee Rating for the previous year (float64)\n",
    "- length_ of_ service: Length of service in years (int64)\n",
    "- awards_ won?: if awards won during previous year then 1 else 0 (int64)\n",
    "- avg_ training_ score: Average score in current training evaluations (int64)\n",
    "- is_promoted: Recommended for promotion binary (int64)\n",
    "\n",
    "**Table Data:**\n",
    "\n",
    "- Rows: 54808\n",
    "- Columns: 13\n",
    "- File Size is: 3696576 bytes\n",
    "- Feature Types: 8 numeric features, 5 categorical features."
   ]
  },
  {
   "cell_type": "code",
   "execution_count": 2,
   "id": "555a9381-239a-4506-b1d6-f091b3c91208",
   "metadata": {},
   "outputs": [
    {
     "data": {
      "text/html": [
       "<div>\n",
       "<style scoped>\n",
       "    .dataframe tbody tr th:only-of-type {\n",
       "        vertical-align: middle;\n",
       "    }\n",
       "\n",
       "    .dataframe tbody tr th {\n",
       "        vertical-align: top;\n",
       "    }\n",
       "\n",
       "    .dataframe thead th {\n",
       "        text-align: right;\n",
       "    }\n",
       "</style>\n",
       "<table border=\"1\" class=\"dataframe\">\n",
       "  <thead>\n",
       "    <tr style=\"text-align: right;\">\n",
       "      <th></th>\n",
       "      <th>employee_id</th>\n",
       "      <th>department</th>\n",
       "      <th>region</th>\n",
       "      <th>education</th>\n",
       "      <th>gender</th>\n",
       "      <th>recruitment_channel</th>\n",
       "      <th>no_of_trainings</th>\n",
       "      <th>age</th>\n",
       "      <th>previous_year_rating</th>\n",
       "      <th>length_of_service</th>\n",
       "      <th>awards_won?</th>\n",
       "      <th>avg_training_score</th>\n",
       "      <th>is_promoted</th>\n",
       "    </tr>\n",
       "  </thead>\n",
       "  <tbody>\n",
       "    <tr>\n",
       "      <th>0</th>\n",
       "      <td>65438</td>\n",
       "      <td>Sales &amp; Marketing</td>\n",
       "      <td>region_7</td>\n",
       "      <td>Master's &amp; above</td>\n",
       "      <td>f</td>\n",
       "      <td>sourcing</td>\n",
       "      <td>1</td>\n",
       "      <td>35</td>\n",
       "      <td>5.0</td>\n",
       "      <td>8</td>\n",
       "      <td>0</td>\n",
       "      <td>49</td>\n",
       "      <td>0</td>\n",
       "    </tr>\n",
       "    <tr>\n",
       "      <th>1</th>\n",
       "      <td>65141</td>\n",
       "      <td>Operations</td>\n",
       "      <td>region_22</td>\n",
       "      <td>Bachelor's</td>\n",
       "      <td>m</td>\n",
       "      <td>other</td>\n",
       "      <td>1</td>\n",
       "      <td>30</td>\n",
       "      <td>5.0</td>\n",
       "      <td>4</td>\n",
       "      <td>0</td>\n",
       "      <td>60</td>\n",
       "      <td>0</td>\n",
       "    </tr>\n",
       "    <tr>\n",
       "      <th>2</th>\n",
       "      <td>7513</td>\n",
       "      <td>Sales &amp; Marketing</td>\n",
       "      <td>region_19</td>\n",
       "      <td>Bachelor's</td>\n",
       "      <td>m</td>\n",
       "      <td>sourcing</td>\n",
       "      <td>1</td>\n",
       "      <td>34</td>\n",
       "      <td>3.0</td>\n",
       "      <td>7</td>\n",
       "      <td>0</td>\n",
       "      <td>50</td>\n",
       "      <td>0</td>\n",
       "    </tr>\n",
       "    <tr>\n",
       "      <th>3</th>\n",
       "      <td>2542</td>\n",
       "      <td>Sales &amp; Marketing</td>\n",
       "      <td>region_23</td>\n",
       "      <td>Bachelor's</td>\n",
       "      <td>m</td>\n",
       "      <td>other</td>\n",
       "      <td>2</td>\n",
       "      <td>39</td>\n",
       "      <td>1.0</td>\n",
       "      <td>10</td>\n",
       "      <td>0</td>\n",
       "      <td>50</td>\n",
       "      <td>0</td>\n",
       "    </tr>\n",
       "    <tr>\n",
       "      <th>4</th>\n",
       "      <td>48945</td>\n",
       "      <td>Technology</td>\n",
       "      <td>region_26</td>\n",
       "      <td>Bachelor's</td>\n",
       "      <td>m</td>\n",
       "      <td>other</td>\n",
       "      <td>1</td>\n",
       "      <td>45</td>\n",
       "      <td>3.0</td>\n",
       "      <td>2</td>\n",
       "      <td>0</td>\n",
       "      <td>73</td>\n",
       "      <td>0</td>\n",
       "    </tr>\n",
       "  </tbody>\n",
       "</table>\n",
       "</div>"
      ],
      "text/plain": [
       "   employee_id         department     region         education gender  \\\n",
       "0        65438  Sales & Marketing   region_7  Master's & above      f   \n",
       "1        65141         Operations  region_22        Bachelor's      m   \n",
       "2         7513  Sales & Marketing  region_19        Bachelor's      m   \n",
       "3         2542  Sales & Marketing  region_23        Bachelor's      m   \n",
       "4        48945         Technology  region_26        Bachelor's      m   \n",
       "\n",
       "  recruitment_channel  no_of_trainings  age  previous_year_rating  \\\n",
       "0            sourcing                1   35                   5.0   \n",
       "1               other                1   30                   5.0   \n",
       "2            sourcing                1   34                   3.0   \n",
       "3               other                2   39                   1.0   \n",
       "4               other                1   45                   3.0   \n",
       "\n",
       "   length_of_service  awards_won?  avg_training_score  is_promoted  \n",
       "0                  8            0                  49            0  \n",
       "1                  4            0                  60            0  \n",
       "2                  7            0                  50            0  \n",
       "3                 10            0                  50            0  \n",
       "4                  2            0                  73            0  "
      ]
     },
     "execution_count": 2,
     "metadata": {},
     "output_type": "execute_result"
    }
   ],
   "source": [
    "dataset = pd.read_csv('HRAnalytics_train.csv')\n",
    "dataset.head()"
   ]
  },
  {
   "cell_type": "code",
   "execution_count": 3,
   "id": "fcaedccf-65f5-4904-acb2-fc6408e4c0dc",
   "metadata": {},
   "outputs": [
    {
     "name": "stdout",
     "output_type": "stream",
     "text": [
      "Rows: 54808\n",
      "Columns: 13\n",
      "File Size is: 3696576 bytes\n",
      "Column Types:\n",
      "<class 'pandas.core.frame.DataFrame'>\n",
      "RangeIndex: 54808 entries, 0 to 54807\n",
      "Data columns (total 13 columns):\n",
      " #   Column                Non-Null Count  Dtype  \n",
      "---  ------                --------------  -----  \n",
      " 0   employee_id           54808 non-null  int64  \n",
      " 1   department            54808 non-null  object \n",
      " 2   region                54808 non-null  object \n",
      " 3   education             52399 non-null  object \n",
      " 4   gender                54808 non-null  object \n",
      " 5   recruitment_channel   54808 non-null  object \n",
      " 6   no_of_trainings       54808 non-null  int64  \n",
      " 7   age                   54808 non-null  int64  \n",
      " 8   previous_year_rating  50684 non-null  float64\n",
      " 9   length_of_service     54808 non-null  int64  \n",
      " 10  awards_won?           54808 non-null  int64  \n",
      " 11  avg_training_score    54808 non-null  int64  \n",
      " 12  is_promoted           54808 non-null  int64  \n",
      "dtypes: float64(1), int64(7), object(5)\n",
      "memory usage: 5.4+ MB\n"
     ]
    }
   ],
   "source": [
    "print('Rows:', np.shape(dataset)[0])\n",
    "print('Columns:', np.shape(dataset)[1])\n",
    "print(\"File Size is:\", os.path.getsize('HRAnalytics_train.csv'), \"bytes\")\n",
    "print(\"Column Types:\")\n",
    "dataset.info()"
   ]
  },
  {
   "cell_type": "markdown",
   "id": "c56b77ae-a2d3-4a46-a1c5-5bf584bb4590",
   "metadata": {},
   "source": [
    "### Data Cleaning"
   ]
  },
  {
   "cell_type": "markdown",
   "id": "c4b57bb0-8226-4c06-8620-071624cdf67f",
   "metadata": {},
   "source": [
    "**Data Cleaning & Reduction:**  \n",
    "To clean this dataset I intend to perform the following tasks:  \n",
    "- Replace all null values with generic zero values to allow for seamless numeric calculations.\n",
    "- Remove unnecessary columns such as 'recruitment_channel' and 'region' to reduce the size of the dataset and create a more manageable pandas DataFrame.\n",
    "- ~~Review all unique string values to consider converting into integer equivalents if needed during EDA. For example, I will convert male and female values to 1 and 0 in the 'gender' column.~~  \n",
    "- ~~Group data by 'department' to determine how the likelyhood of promotion differs in each category and further reduce dataset size if neccessary.~~  \n",
    "- Review all unique values in each column to determine which categorical columns to convert into numerical values to assist with Bayesian Classification."
   ]
  },
  {
   "cell_type": "code",
   "execution_count": 4,
   "id": "b089dfea-f187-4374-95b2-236fc7f505df",
   "metadata": {},
   "outputs": [
    {
     "data": {
      "text/plain": [
       "employee_id                0\n",
       "department                 0\n",
       "region                     0\n",
       "education               2409\n",
       "gender                     0\n",
       "recruitment_channel        0\n",
       "no_of_trainings            0\n",
       "age                        0\n",
       "previous_year_rating    4124\n",
       "length_of_service          0\n",
       "awards_won?                0\n",
       "avg_training_score         0\n",
       "is_promoted                0\n",
       "dtype: int64"
      ]
     },
     "execution_count": 4,
     "metadata": {},
     "output_type": "execute_result"
    }
   ],
   "source": [
    "# Review columns with null values\n",
    "dataset.isna().sum()"
   ]
  },
  {
   "cell_type": "code",
   "execution_count": 5,
   "id": "7505d0b9-3844-4f3b-a92b-994802da87ad",
   "metadata": {},
   "outputs": [
    {
     "name": "stdout",
     "output_type": "stream",
     "text": [
      "education : 4\n",
      "gender : 2\n",
      "no_of_trainings : 10\n",
      "age : 41\n",
      "previous_year_rating : 6\n",
      "length_of_service : 35\n",
      "awards_won? : 2\n",
      "avg_training_score : 61\n",
      "is_promoted : 2\n"
     ]
    }
   ],
   "source": [
    "clean_dataset = dataset\n",
    "\n",
    "# Replacing NULL values\n",
    "clean_dataset['education'] = clean_dataset['education'].fillna('N/A')\n",
    "clean_dataset['previous_year_rating'] = clean_dataset['previous_year_rating'].fillna(0)\n",
    "\n",
    "# Removing unnecessary columns\n",
    "clean_dataset = clean_dataset.drop(\"recruitment_channel\", axis='columns')\n",
    "clean_dataset = clean_dataset.drop(\"region\", axis='columns')\n",
    "clean_dataset = clean_dataset.drop(\"employee_id\", axis='columns')\n",
    "clean_dataset = clean_dataset.drop(\"department\", axis='columns')\n",
    "\n",
    "## Review num of unique vals in each column (Cardinality)\n",
    "columns = clean_dataset.columns\n",
    "for var in columns:\n",
    "    print(var, ':', len(clean_dataset[var].unique()))"
   ]
  },
  {
   "cell_type": "code",
   "execution_count": 6,
   "id": "37d3ffe1-b1cc-446a-bc8b-ed68301f084f",
   "metadata": {},
   "outputs": [
    {
     "name": "stdout",
     "output_type": "stream",
     "text": [
      "Bachelor's          36669\n",
      "Master's & above    14925\n",
      "N/A                  2409\n",
      "Below Secondary       805\n",
      "Name: education, dtype: int64 \n",
      "\n",
      "m    38496\n",
      "f    16312\n",
      "Name: gender, dtype: int64 \n",
      "\n",
      "1     44378\n",
      "2      7987\n",
      "3      1776\n",
      "4       468\n",
      "5       128\n",
      "6        44\n",
      "7        12\n",
      "8         5\n",
      "10        5\n",
      "9         5\n",
      "Name: no_of_trainings, dtype: int64 \n",
      "\n",
      "30    3665\n",
      "32    3534\n",
      "31    3534\n",
      "29    3405\n",
      "33    3210\n",
      "28    3147\n",
      "34    3076\n",
      "27    2827\n",
      "35    2711\n",
      "36    2517\n",
      "37    2165\n",
      "26    2060\n",
      "38    1923\n",
      "39    1695\n",
      "40    1663\n",
      "25    1299\n",
      "41    1289\n",
      "42    1149\n",
      "43     992\n",
      "44     847\n",
      "24     845\n",
      "45     760\n",
      "46     697\n",
      "48     557\n",
      "47     557\n",
      "50     521\n",
      "49     441\n",
      "23     428\n",
      "51     389\n",
      "53     364\n",
      "52     351\n",
      "54     313\n",
      "55     294\n",
      "56     264\n",
      "57     238\n",
      "22     231\n",
      "60     217\n",
      "58     213\n",
      "59     209\n",
      "20     113\n",
      "21      98\n",
      "Name: age, dtype: int64 \n",
      "\n",
      "3.0    18618\n",
      "5.0    11741\n",
      "4.0     9877\n",
      "1.0     6223\n",
      "2.0     4225\n",
      "0.0     4124\n",
      "Name: previous_year_rating, dtype: int64 \n",
      "\n",
      "3     7033\n",
      "4     6836\n",
      "2     6684\n",
      "5     5832\n",
      "7     5551\n",
      "6     4734\n",
      "1     4547\n",
      "8     2883\n",
      "9     2629\n",
      "10    2193\n",
      "11     916\n",
      "12     794\n",
      "13     687\n",
      "15     593\n",
      "14     549\n",
      "16     548\n",
      "17     432\n",
      "18     392\n",
      "19     329\n",
      "20     128\n",
      "21      78\n",
      "24      70\n",
      "23      65\n",
      "22      61\n",
      "25      51\n",
      "26      41\n",
      "27      36\n",
      "28      30\n",
      "29      30\n",
      "31      20\n",
      "30      12\n",
      "32      10\n",
      "33       9\n",
      "34       4\n",
      "37       1\n",
      "Name: length_of_service, dtype: int64 \n",
      "\n",
      "0    53538\n",
      "1     1270\n",
      "Name: awards_won?, dtype: int64 \n",
      "\n",
      "50    2716\n",
      "49    2681\n",
      "48    2437\n",
      "51    2347\n",
      "60    2155\n",
      "      ... \n",
      "98      37\n",
      "99      35\n",
      "41      26\n",
      "40       5\n",
      "39       2\n",
      "Name: avg_training_score, Length: 61, dtype: int64 \n",
      "\n",
      "0    50140\n",
      "1     4668\n",
      "Name: is_promoted, dtype: int64 \n",
      "\n"
     ]
    }
   ],
   "source": [
    "## Review frequency of unique vals\n",
    "for var in columns:\n",
    "    print(clean_dataset[var].value_counts(),'\\n')"
   ]
  },
  {
   "cell_type": "code",
   "execution_count": 7,
   "id": "7a796662-5cb9-4688-a50e-75d76a418d4e",
   "metadata": {},
   "outputs": [],
   "source": [
    "# ## Review Unique Values of Strings\n",
    "# print('CATEGORICAL VALUES:')\n",
    "# for vals in columns:\n",
    "#     if clean_dataset[vals].dtypes == 'O':\n",
    "#         print(vals,\":\", clean_dataset[vals].unique())\n",
    "\n",
    "# ## Review the mean value of each numeric feature\n",
    "# print('\\nNUMERIC COLUMN MEANS:')  \n",
    "# for vals in columns:\n",
    "#     if clean_dataset[vals].dtypes != 'O':\n",
    "#             print(vals,\":\", clean_dataset[vals].mean())  "
   ]
  },
  {
   "cell_type": "code",
   "execution_count": 8,
   "id": "d137a0c9-57c5-42a1-8233-8977733b5fc1",
   "metadata": {
    "tags": []
   },
   "outputs": [
    {
     "data": {
      "text/html": [
       "<div>\n",
       "<style scoped>\n",
       "    .dataframe tbody tr th:only-of-type {\n",
       "        vertical-align: middle;\n",
       "    }\n",
       "\n",
       "    .dataframe tbody tr th {\n",
       "        vertical-align: top;\n",
       "    }\n",
       "\n",
       "    .dataframe thead th {\n",
       "        text-align: right;\n",
       "    }\n",
       "</style>\n",
       "<table border=\"1\" class=\"dataframe\">\n",
       "  <thead>\n",
       "    <tr style=\"text-align: right;\">\n",
       "      <th></th>\n",
       "      <th>education</th>\n",
       "      <th>gender</th>\n",
       "      <th>no_of_trainings</th>\n",
       "      <th>age</th>\n",
       "      <th>previous_year_rating</th>\n",
       "      <th>length_of_service</th>\n",
       "      <th>awards_won?</th>\n",
       "      <th>avg_training_score</th>\n",
       "      <th>is_promoted</th>\n",
       "    </tr>\n",
       "  </thead>\n",
       "  <tbody>\n",
       "    <tr>\n",
       "      <th>0</th>\n",
       "      <td>3</td>\n",
       "      <td>0</td>\n",
       "      <td>1</td>\n",
       "      <td>35</td>\n",
       "      <td>5.0</td>\n",
       "      <td>8</td>\n",
       "      <td>0</td>\n",
       "      <td>49</td>\n",
       "      <td>Not Promoted</td>\n",
       "    </tr>\n",
       "    <tr>\n",
       "      <th>1</th>\n",
       "      <td>2</td>\n",
       "      <td>1</td>\n",
       "      <td>1</td>\n",
       "      <td>30</td>\n",
       "      <td>5.0</td>\n",
       "      <td>4</td>\n",
       "      <td>0</td>\n",
       "      <td>60</td>\n",
       "      <td>Not Promoted</td>\n",
       "    </tr>\n",
       "    <tr>\n",
       "      <th>2</th>\n",
       "      <td>2</td>\n",
       "      <td>1</td>\n",
       "      <td>1</td>\n",
       "      <td>34</td>\n",
       "      <td>3.0</td>\n",
       "      <td>7</td>\n",
       "      <td>0</td>\n",
       "      <td>50</td>\n",
       "      <td>Not Promoted</td>\n",
       "    </tr>\n",
       "    <tr>\n",
       "      <th>3</th>\n",
       "      <td>2</td>\n",
       "      <td>1</td>\n",
       "      <td>2</td>\n",
       "      <td>39</td>\n",
       "      <td>1.0</td>\n",
       "      <td>10</td>\n",
       "      <td>0</td>\n",
       "      <td>50</td>\n",
       "      <td>Not Promoted</td>\n",
       "    </tr>\n",
       "    <tr>\n",
       "      <th>4</th>\n",
       "      <td>2</td>\n",
       "      <td>1</td>\n",
       "      <td>1</td>\n",
       "      <td>45</td>\n",
       "      <td>3.0</td>\n",
       "      <td>2</td>\n",
       "      <td>0</td>\n",
       "      <td>73</td>\n",
       "      <td>Not Promoted</td>\n",
       "    </tr>\n",
       "  </tbody>\n",
       "</table>\n",
       "</div>"
      ],
      "text/plain": [
       "   education  gender  no_of_trainings  age  previous_year_rating  \\\n",
       "0          3       0                1   35                   5.0   \n",
       "1          2       1                1   30                   5.0   \n",
       "2          2       1                1   34                   3.0   \n",
       "3          2       1                2   39                   1.0   \n",
       "4          2       1                1   45                   3.0   \n",
       "\n",
       "   length_of_service  awards_won?  avg_training_score   is_promoted  \n",
       "0                  8            0                  49  Not Promoted  \n",
       "1                  4            0                  60  Not Promoted  \n",
       "2                  7            0                  50  Not Promoted  \n",
       "3                 10            0                  50  Not Promoted  \n",
       "4                  2            0                  73  Not Promoted  "
      ]
     },
     "execution_count": 8,
     "metadata": {},
     "output_type": "execute_result"
    }
   ],
   "source": [
    "## Convert categorical features to numeric\n",
    "clean_dataset['gender'] = np.where(clean_dataset['gender'] == 'm', 1, 0)\n",
    "   \n",
    "clean_dataset['education'] = clean_dataset['education'].replace(to_replace = \"N/A\", value=0)\n",
    "clean_dataset['education'] = clean_dataset['education'].replace(to_replace = \"Below Secondary\", value=1)\n",
    "clean_dataset['education'] = clean_dataset['education'].replace(to_replace = \"Bachelor's\", value=2)\n",
    "clean_dataset['education'] = clean_dataset['education'].replace(to_replace = \"Master's & above\", value=3)\n",
    "\n",
    "## Converting is_promoted to string values\n",
    "clean_dataset['is_promoted'] = np.where(clean_dataset['is_promoted'] == 1, 'Promoted', 'Not Promoted')\n",
    "\n",
    "clean_dataset.head()"
   ]
  },
  {
   "cell_type": "code",
   "execution_count": 9,
   "id": "eb8a61c7-0631-4a5d-a95b-8a71db48b594",
   "metadata": {},
   "outputs": [],
   "source": [
    "# # ## Converting numeric features into categorical.\n",
    "# clean_dataset['is_promoted'] = np.where(clean_dataset['is_promoted'] == 1, 'Promoted', 'Not Promoted')\n",
    "\n",
    "# # clean_dataset['awards_won?'] = np.where(clean_dataset['awards_won?'] == 1, 'Yes', 'No')\n",
    "# # clean_dataset['age'] = np.where(clean_dataset['age'] <= 35, '≤ 35', '> 35')\n",
    "# # clean_dataset['length_of_service'] = np.where(clean_dataset['length_of_service'] <= 5, '≤ 5', '> 5')\n",
    "# # clean_dataset['no_of_trainings'] = np.where(clean_dataset['no_of_trainings'] <= 1, '≤ 1', '> 1')\n",
    "# # clean_dataset['previous_year_rating'] = np.where(clean_dataset['previous_year_rating'] <= 3, '≤ 3', '> 3')\n",
    "# # clean_dataset['avg_training_score'] = np.where(clean_dataset['avg_training_score'] <= 70, '≤ 70', '> 70')\n",
    "\n",
    "\n",
    "# clean_dataset.head()"
   ]
  },
  {
   "cell_type": "code",
   "execution_count": 10,
   "id": "57258f84-b73c-467f-ba4b-8b16dc4ee13e",
   "metadata": {},
   "outputs": [
    {
     "name": "stdout",
     "output_type": "stream",
     "text": [
      "FEATURE MEANS\n",
      "{'education': 2.1697197489417603, 'gender': 0.7023792147131805, 'no_of_trainings': 1.253010509414684, 'age': 34.80391548679025, 'previous_year_rating': 3.0787476280834913, 'length_of_service': 5.865512333965844, 'awards_won?': 0.023171799737264635, 'avg_training_score': 63.38675010947307}\n",
      "\n",
      "FEATURE STDDEVS\n",
      "{'education': 0.6588010117362554, 'gender': 0.4572159966708521, 'no_of_trainings': 0.609264017648647, 'age': 7.660169201585887, 'previous_year_rating': 1.4964584073789369, 'length_of_service': 4.2650941796862725, 'awards_won?': 0.15045025897768113, 'avg_training_score': 13.371559498626478}\n"
     ]
    }
   ],
   "source": [
    "## Calculate mean and standard deviation for each column\n",
    "print('FEATURE MEANS')\n",
    "col_mean = {}\n",
    "for vals in columns:\n",
    "    if clean_dataset[vals].dtypes != 'O':\n",
    "        col_mean[vals] = clean_dataset[vals].mean()\n",
    "print(col_mean)  \n",
    "\n",
    "col_std = {}\n",
    "print('\\nFEATURE STDDEVS')\n",
    "for vals in columns:\n",
    "    if clean_dataset[vals].dtypes != 'O':\n",
    "        col_std[vals] = clean_dataset[vals].std()\n",
    "print(col_std)"
   ]
  },
  {
   "cell_type": "code",
   "execution_count": 11,
   "id": "f0e8fe7c-c192-4b8c-bc40-c2d9c9b9540c",
   "metadata": {
    "tags": []
   },
   "outputs": [],
   "source": [
    "# ## Group by department and number of employees in group\n",
    "# dept_dataset = clean_dataset.groupby(['department'])\n",
    "# dept_emp_count = dept_dataset['employee_id'].count()\n",
    "# dept_emp_count"
   ]
  },
  {
   "cell_type": "code",
   "execution_count": 12,
   "id": "2da379dc-6aef-4fb1-8e14-273fd52bb184",
   "metadata": {
    "tags": []
   },
   "outputs": [],
   "source": [
    "# ## Mean of each numberic column for each group\n",
    "# cols_to_avg = ['gender','no_of_trainings','age','previous_year_rating','length_of_service','awards_won?','avg_training_score', 'is_promoted']\n",
    "# dept_col_avgs = dept_dataset[cols_to_avg].mean()\n",
    "# dept_col_avgs"
   ]
  },
  {
   "cell_type": "markdown",
   "id": "c74956d1-aa41-463e-92f2-de03316b1699",
   "metadata": {},
   "source": [
    "**Visualizations**  \n",
    "The following visualization is comparing the mean of each numeric feature by deparment.\n",
    "\n",
    "The following visualization compares the mean of promotions across different attributes."
   ]
  },
  {
   "cell_type": "code",
   "execution_count": 13,
   "id": "ec4c1c01-bdd7-499c-881a-7fac1b8d2da7",
   "metadata": {
    "tags": []
   },
   "outputs": [],
   "source": [
    "# dept_col_avgs.plot();\n",
    "# # dept_emp_count.plot();\n",
    "# plt.xticks(rotation=45, ha='right');"
   ]
  },
  {
   "cell_type": "code",
   "execution_count": 14,
   "id": "1dc8d98b-ebe4-4f43-afa9-22ded89dc643",
   "metadata": {},
   "outputs": [],
   "source": [
    "## Convert categorical features into numeric, just to visualize\n",
    "# promo_dataset = clean_dataset\n",
    "# promo_dataset['is_promoted'] = dataset['is_promoted']\n",
    "# promo_dataset['awards_won?'] = dataset['awards_won?']\n",
    "# promo_dataset['age'] = dataset['age']\n",
    "# promo_dataset['gender'] = dataset.gender.map(dict(m=1, f=0))\n",
    "\n",
    "# # promo_dataset = promo_dataset.groupby(['is_promoted'])\n",
    "# promo_dataset = promo_dataset['is_promoted'](promo_dataset['is_promoted' == 'Yes'])\n",
    "# promo_dataset[['gender', 'age', 'awards_won?']].plot();"
   ]
  },
  {
   "cell_type": "code",
   "execution_count": 15,
   "id": "76daf739-8e13-4590-b8dd-a7a9c99c1102",
   "metadata": {},
   "outputs": [
    {
     "data": {
      "text/html": [
       "<div>\n",
       "<style scoped>\n",
       "    .dataframe tbody tr th:only-of-type {\n",
       "        vertical-align: middle;\n",
       "    }\n",
       "\n",
       "    .dataframe tbody tr th {\n",
       "        vertical-align: top;\n",
       "    }\n",
       "\n",
       "    .dataframe thead th {\n",
       "        text-align: right;\n",
       "    }\n",
       "</style>\n",
       "<table border=\"1\" class=\"dataframe\">\n",
       "  <thead>\n",
       "    <tr style=\"text-align: right;\">\n",
       "      <th></th>\n",
       "      <th>education</th>\n",
       "      <th>gender</th>\n",
       "      <th>no_of_trainings</th>\n",
       "      <th>age</th>\n",
       "      <th>previous_year_rating</th>\n",
       "      <th>length_of_service</th>\n",
       "      <th>awards_won?</th>\n",
       "      <th>avg_training_score</th>\n",
       "      <th>is_promoted</th>\n",
       "    </tr>\n",
       "  </thead>\n",
       "  <tbody>\n",
       "    <tr>\n",
       "      <th>0</th>\n",
       "      <td>3</td>\n",
       "      <td>0</td>\n",
       "      <td>1</td>\n",
       "      <td>35</td>\n",
       "      <td>5.0</td>\n",
       "      <td>8</td>\n",
       "      <td>0</td>\n",
       "      <td>49</td>\n",
       "      <td>Not Promoted</td>\n",
       "    </tr>\n",
       "    <tr>\n",
       "      <th>1</th>\n",
       "      <td>2</td>\n",
       "      <td>1</td>\n",
       "      <td>1</td>\n",
       "      <td>30</td>\n",
       "      <td>5.0</td>\n",
       "      <td>4</td>\n",
       "      <td>0</td>\n",
       "      <td>60</td>\n",
       "      <td>Not Promoted</td>\n",
       "    </tr>\n",
       "    <tr>\n",
       "      <th>2</th>\n",
       "      <td>2</td>\n",
       "      <td>1</td>\n",
       "      <td>1</td>\n",
       "      <td>34</td>\n",
       "      <td>3.0</td>\n",
       "      <td>7</td>\n",
       "      <td>0</td>\n",
       "      <td>50</td>\n",
       "      <td>Not Promoted</td>\n",
       "    </tr>\n",
       "    <tr>\n",
       "      <th>3</th>\n",
       "      <td>2</td>\n",
       "      <td>1</td>\n",
       "      <td>2</td>\n",
       "      <td>39</td>\n",
       "      <td>1.0</td>\n",
       "      <td>10</td>\n",
       "      <td>0</td>\n",
       "      <td>50</td>\n",
       "      <td>Not Promoted</td>\n",
       "    </tr>\n",
       "    <tr>\n",
       "      <th>4</th>\n",
       "      <td>2</td>\n",
       "      <td>1</td>\n",
       "      <td>1</td>\n",
       "      <td>45</td>\n",
       "      <td>3.0</td>\n",
       "      <td>2</td>\n",
       "      <td>0</td>\n",
       "      <td>73</td>\n",
       "      <td>Not Promoted</td>\n",
       "    </tr>\n",
       "  </tbody>\n",
       "</table>\n",
       "</div>"
      ],
      "text/plain": [
       "   education  gender  no_of_trainings  age  previous_year_rating  \\\n",
       "0          3       0                1   35                   5.0   \n",
       "1          2       1                1   30                   5.0   \n",
       "2          2       1                1   34                   3.0   \n",
       "3          2       1                2   39                   1.0   \n",
       "4          2       1                1   45                   3.0   \n",
       "\n",
       "   length_of_service  awards_won?  avg_training_score   is_promoted  \n",
       "0                  8            0                  49  Not Promoted  \n",
       "1                  4            0                  60  Not Promoted  \n",
       "2                  7            0                  50  Not Promoted  \n",
       "3                 10            0                  50  Not Promoted  \n",
       "4                  2            0                  73  Not Promoted  "
      ]
     },
     "execution_count": 15,
     "metadata": {},
     "output_type": "execute_result"
    }
   ],
   "source": [
    "clean_dataset.head()"
   ]
  },
  {
   "cell_type": "code",
   "execution_count": 16,
   "id": "7095de24-2923-4ac0-a8c1-2fef3e029938",
   "metadata": {},
   "outputs": [
    {
     "name": "stdout",
     "output_type": "stream",
     "text": [
      "<class 'pandas.core.frame.DataFrame'>\n",
      "RangeIndex: 54808 entries, 0 to 54807\n",
      "Data columns (total 9 columns):\n",
      " #   Column                Non-Null Count  Dtype  \n",
      "---  ------                --------------  -----  \n",
      " 0   education             54808 non-null  int64  \n",
      " 1   gender                54808 non-null  int64  \n",
      " 2   no_of_trainings       54808 non-null  int64  \n",
      " 3   age                   54808 non-null  int64  \n",
      " 4   previous_year_rating  54808 non-null  float64\n",
      " 5   length_of_service     54808 non-null  int64  \n",
      " 6   awards_won?           54808 non-null  int64  \n",
      " 7   avg_training_score    54808 non-null  int64  \n",
      " 8   is_promoted           54808 non-null  object \n",
      "dtypes: float64(1), int64(7), object(1)\n",
      "memory usage: 3.8+ MB\n"
     ]
    }
   ],
   "source": [
    "clean_dataset.info()"
   ]
  },
  {
   "cell_type": "markdown",
   "id": "f02db497-df98-45f0-8d79-e7c688741edd",
   "metadata": {},
   "source": [
    "### Exploratory Data Analysis"
   ]
  },
  {
   "cell_type": "markdown",
   "id": "b5c42b3c-a2b0-4b75-ad06-59da843ee14d",
   "metadata": {},
   "source": [
    "I will be using a Gaussian Naive Bayes Classification to to determine the likelyhood of promotion given each class. \n",
    "\n",
    "Using Bayes Theorem, $P(y|X) = \\frac{P(X|y) * P(y)}{P(X)}$ where $y$ is the class labels and $X$ is the Feature Vector *is_promoted*, we will calculate the class with the highest post probability of being promoted.  \n",
    "\n",
    "- $P(y)=$ Prior probability, frequency of each class  \n",
    "- $P(X_i|y)=$ Class conditional probability, modeled with Gaussian distribution: $P(X_i|y) = \\frac{1}{sqrt(2\\pi\\sigma^2_y)}*exp(-\\frac{(x_i-\\mu_y)^2}{2\\sigma^2_y})$"
   ]
  },
  {
   "cell_type": "code",
   "execution_count": 17,
   "id": "5a90e0f4-f0a7-49cb-a9c2-b771ab8129c2",
   "metadata": {},
   "outputs": [],
   "source": [
    "## Create our test and train datasets\n",
    "\n",
    "X = clean_dataset.drop(['is_promoted'], axis=1)\n",
    "y = clean_dataset['is_promoted']\n",
    "\n",
    "X_train, X_test, y_train, y_test = train_test_split(X, y, test_size = 0.3, random_state = 0)"
   ]
  },
  {
   "cell_type": "markdown",
   "id": "31004965-bacd-41ec-9961-286928d6cb8b",
   "metadata": {},
   "source": [
    "### Model Approach"
   ]
  },
  {
   "cell_type": "code",
   "execution_count": 18,
   "id": "79e88f45-d5d4-4026-9ac1-4d521dba4c7a",
   "metadata": {},
   "outputs": [
    {
     "data": {
      "text/html": [
       "<style>#sk-container-id-1 {color: black;background-color: white;}#sk-container-id-1 pre{padding: 0;}#sk-container-id-1 div.sk-toggleable {background-color: white;}#sk-container-id-1 label.sk-toggleable__label {cursor: pointer;display: block;width: 100%;margin-bottom: 0;padding: 0.3em;box-sizing: border-box;text-align: center;}#sk-container-id-1 label.sk-toggleable__label-arrow:before {content: \"▸\";float: left;margin-right: 0.25em;color: #696969;}#sk-container-id-1 label.sk-toggleable__label-arrow:hover:before {color: black;}#sk-container-id-1 div.sk-estimator:hover label.sk-toggleable__label-arrow:before {color: black;}#sk-container-id-1 div.sk-toggleable__content {max-height: 0;max-width: 0;overflow: hidden;text-align: left;background-color: #f0f8ff;}#sk-container-id-1 div.sk-toggleable__content pre {margin: 0.2em;color: black;border-radius: 0.25em;background-color: #f0f8ff;}#sk-container-id-1 input.sk-toggleable__control:checked~div.sk-toggleable__content {max-height: 200px;max-width: 100%;overflow: auto;}#sk-container-id-1 input.sk-toggleable__control:checked~label.sk-toggleable__label-arrow:before {content: \"▾\";}#sk-container-id-1 div.sk-estimator input.sk-toggleable__control:checked~label.sk-toggleable__label {background-color: #d4ebff;}#sk-container-id-1 div.sk-label input.sk-toggleable__control:checked~label.sk-toggleable__label {background-color: #d4ebff;}#sk-container-id-1 input.sk-hidden--visually {border: 0;clip: rect(1px 1px 1px 1px);clip: rect(1px, 1px, 1px, 1px);height: 1px;margin: -1px;overflow: hidden;padding: 0;position: absolute;width: 1px;}#sk-container-id-1 div.sk-estimator {font-family: monospace;background-color: #f0f8ff;border: 1px dotted black;border-radius: 0.25em;box-sizing: border-box;margin-bottom: 0.5em;}#sk-container-id-1 div.sk-estimator:hover {background-color: #d4ebff;}#sk-container-id-1 div.sk-parallel-item::after {content: \"\";width: 100%;border-bottom: 1px solid gray;flex-grow: 1;}#sk-container-id-1 div.sk-label:hover label.sk-toggleable__label {background-color: #d4ebff;}#sk-container-id-1 div.sk-serial::before {content: \"\";position: absolute;border-left: 1px solid gray;box-sizing: border-box;top: 0;bottom: 0;left: 50%;z-index: 0;}#sk-container-id-1 div.sk-serial {display: flex;flex-direction: column;align-items: center;background-color: white;padding-right: 0.2em;padding-left: 0.2em;position: relative;}#sk-container-id-1 div.sk-item {position: relative;z-index: 1;}#sk-container-id-1 div.sk-parallel {display: flex;align-items: stretch;justify-content: center;background-color: white;position: relative;}#sk-container-id-1 div.sk-item::before, #sk-container-id-1 div.sk-parallel-item::before {content: \"\";position: absolute;border-left: 1px solid gray;box-sizing: border-box;top: 0;bottom: 0;left: 50%;z-index: -1;}#sk-container-id-1 div.sk-parallel-item {display: flex;flex-direction: column;z-index: 1;position: relative;background-color: white;}#sk-container-id-1 div.sk-parallel-item:first-child::after {align-self: flex-end;width: 50%;}#sk-container-id-1 div.sk-parallel-item:last-child::after {align-self: flex-start;width: 50%;}#sk-container-id-1 div.sk-parallel-item:only-child::after {width: 0;}#sk-container-id-1 div.sk-dashed-wrapped {border: 1px dashed gray;margin: 0 0.4em 0.5em 0.4em;box-sizing: border-box;padding-bottom: 0.4em;background-color: white;}#sk-container-id-1 div.sk-label label {font-family: monospace;font-weight: bold;display: inline-block;line-height: 1.2em;}#sk-container-id-1 div.sk-label-container {text-align: center;}#sk-container-id-1 div.sk-container {/* jupyter's `normalize.less` sets `[hidden] { display: none; }` but bootstrap.min.css set `[hidden] { display: none !important; }` so we also need the `!important` here to be able to override the default hidden behavior on the sphinx rendered scikit-learn.org. See: https://github.com/scikit-learn/scikit-learn/issues/21755 */display: inline-block !important;position: relative;}#sk-container-id-1 div.sk-text-repr-fallback {display: none;}</style><div id=\"sk-container-id-1\" class=\"sk-top-container\"><div class=\"sk-text-repr-fallback\"><pre>GaussianNB()</pre><b>In a Jupyter environment, please rerun this cell to show the HTML representation or trust the notebook. <br />On GitHub, the HTML representation is unable to render, please try loading this page with nbviewer.org.</b></div><div class=\"sk-container\" hidden><div class=\"sk-item\"><div class=\"sk-estimator sk-toggleable\"><input class=\"sk-toggleable__control sk-hidden--visually\" id=\"sk-estimator-id-1\" type=\"checkbox\" checked><label for=\"sk-estimator-id-1\" class=\"sk-toggleable__label sk-toggleable__label-arrow\">GaussianNB</label><div class=\"sk-toggleable__content\"><pre>GaussianNB()</pre></div></div></div></div></div>"
      ],
      "text/plain": [
       "GaussianNB()"
      ]
     },
     "execution_count": 18,
     "metadata": {},
     "output_type": "execute_result"
    }
   ],
   "source": [
    "## Train our model using the GaussianNB() library\n",
    "\n",
    "clf=GaussianNB() \n",
    "clf.fit(X_train,y_train) "
   ]
  },
  {
   "cell_type": "code",
   "execution_count": 19,
   "id": "4113508b-d4ca-4f3c-a726-1e00859601d7",
   "metadata": {},
   "outputs": [
    {
     "name": "stdout",
     "output_type": "stream",
     "text": [
      "              precision    recall  f1-score   support\n",
      "\n",
      "Not Promoted       0.92      0.99      0.95     15057\n",
      "    Promoted       0.44      0.13      0.20      1386\n",
      "\n",
      "    accuracy                           0.91     16443\n",
      "   macro avg       0.68      0.56      0.58     16443\n",
      "weighted avg       0.88      0.91      0.89     16443\n",
      "\n"
     ]
    }
   ],
   "source": [
    "# Evaluate our model\n",
    "y_pred=clf.predict(X_test)\n",
    "print(classification_report(y_test,y_pred))"
   ]
  },
  {
   "cell_type": "code",
   "execution_count": 20,
   "id": "d5dfcf7e-fe4f-4392-aa59-b7d2b5f4f260",
   "metadata": {},
   "outputs": [
    {
     "data": {
      "image/png": "[encoded data removed]",
      "text/plain": [
       "<Figure size 640x480 with 1 Axes>"
      ]
     },
     "metadata": {},
     "output_type": "display_data"
    }
   ],
   "source": [
    "# Plot a histogram and pdf for a few features\n",
    "\n",
    "# print(columns)\n",
    "# print(col_mean['age'])\n",
    "# print(col_std['age'])\n",
    "x = clean_dataset['age']\n",
    "x_rv = stats.norm(loc=col_mean['age'], scale=col_std['age'])\n",
    "fr_x = np.linspace(x_rv.ppf(0.01), x_rv.ppf(0.99), 100)\n",
    "\n",
    "plt.hist(x, density=True);\n",
    "plt.plot(fr_x, x_rv.pdf(fr_x));\n",
    "plt.show();"
   ]
  },
  {
   "cell_type": "code",
   "execution_count": null,
   "id": "e3888a87-2968-4a0e-b544-bcafdb4f886f",
   "metadata": {},
   "outputs": [],
   "source": []
  },
  {
   "cell_type": "code",
   "execution_count": 21,
   "id": "71cbb833-54bb-4fc8-8a45-4bb74b0189c7",
   "metadata": {},
   "outputs": [
    {
     "data": {
      "image/png": "[encoded data removed]",
      "text/plain": [
       "<Figure size 640x480 with 1 Axes>"
      ]
     },
     "metadata": {},
     "output_type": "display_data"
    }
   ],
   "source": [
    "stats.probplot(x,plot=plt);"
   ]
  },
  {
   "cell_type": "code",
   "execution_count": 22,
   "id": "967a6dcd-7533-4733-98ba-36f6869f0f95",
   "metadata": {},
   "outputs": [],
   "source": [
    "## Visualize the distribution for 3 different features\n",
    "\n",
    "promo_data = clean_dataset.loc[clean_dataset[\"is_promoted\"] == 'Promoted']\n",
    "not_promo_data = clean_dataset.loc[clean_dataset[\"is_promoted\"] == 'Not Promoted']"
   ]
  },
  {
   "cell_type": "code",
   "execution_count": 23,
   "id": "065f3fa9-56b3-435d-a65e-5881bf7c984b",
   "metadata": {},
   "outputs": [
    {
     "data": {
      "image/png": "[encoded data removed]",
      "text/plain": [
       "<Figure size 640x480 with 1 Axes>"
      ]
     },
     "metadata": {},
     "output_type": "display_data"
    }
   ],
   "source": [
    "x = clean_dataset['age']\n",
    "\n",
    "x1 = promo_data['age']\n",
    "x_rv1 = stats.norm(loc=x1.mean(), scale=x1.std())\n",
    "fr_x1 = np.linspace(x_rv1.ppf(0.01), x_rv1.ppf(0.99), 100)\n",
    "\n",
    "x2 = not_promo_data['age']\n",
    "x_rv2 = stats.norm(loc=x2.mean(), scale=x2.std())\n",
    "fr_x2 = np.linspace(x_rv2.ppf(0.01), x_rv2.ppf(0.99), 100)\n",
    "\n",
    "plt.hist(x, density=True);\n",
    "plt.plot(fr_x1, x_rv1.pdf(fr_x1), label='Promoted Age');\n",
    "plt.plot(fr_x2, x_rv2.pdf(fr_x2), label='Not Promoted Age');\n",
    "plt.legend();\n",
    "plt.title('Age');\n",
    "plt.show();"
   ]
  },
  {
   "cell_type": "code",
   "execution_count": 24,
   "id": "88636665-4c09-4b1b-9a65-670feb9ed083",
   "metadata": {},
   "outputs": [
    {
     "data": {
      "image/png": "[encoded data removed]",
      "text/plain": [
       "<Figure size 640x480 with 1 Axes>"
      ]
     },
     "metadata": {},
     "output_type": "display_data"
    }
   ],
   "source": [
    "x = clean_dataset['education']\n",
    "\n",
    "x1 = promo_data['education']\n",
    "x_rv1 = stats.norm(loc=x1.mean(), scale=x1.std())\n",
    "fr_x1 = np.linspace(x_rv1.ppf(0.01), x_rv1.ppf(0.99), 100)\n",
    "\n",
    "x2 = not_promo_data['education']\n",
    "x_rv2 = stats.norm(loc=x2.mean(), scale=x2.std())\n",
    "fr_x2 = np.linspace(x_rv2.ppf(0.01), x_rv2.ppf(0.99), 100)\n",
    "\n",
    "plt.hist(x, density=True);\n",
    "plt.plot(fr_x1, x_rv1.pdf(fr_x1), label='Promoted Age');\n",
    "plt.plot(fr_x2, x_rv2.pdf(fr_x2), label='Not Promoted Age');\n",
    "plt.legend();\n",
    "plt.title('education');\n",
    "plt.show();"
   ]
  },
  {
   "cell_type": "code",
   "execution_count": 25,
   "id": "afb3973e-ce43-4388-ad08-e8925c639748",
   "metadata": {},
   "outputs": [
    {
     "data": {
      "image/png": "[encoded data removed]",
      "text/plain": [
       "<Figure size 640x480 with 1 Axes>"
      ]
     },
     "metadata": {},
     "output_type": "display_data"
    }
   ],
   "source": [
    "x = clean_dataset['gender']\n",
    "\n",
    "x1 = promo_data['gender']\n",
    "x_rv1 = stats.norm(loc=x1.mean(), scale=x1.std())\n",
    "fr_x1 = np.linspace(x_rv1.ppf(0.01), x_rv1.ppf(0.99), 100)\n",
    "\n",
    "x2 = not_promo_data['gender']\n",
    "x_rv2 = stats.norm(loc=x2.mean(), scale=x2.std())\n",
    "fr_x2 = np.linspace(x_rv2.ppf(0.01), x_rv2.ppf(0.99), 100)\n",
    "\n",
    "plt.hist(x, density=True);\n",
    "plt.plot(fr_x1, x_rv1.pdf(fr_x1), label='Promoted Age');\n",
    "plt.plot(fr_x2, x_rv2.pdf(fr_x2), label='Not Promoted Age');\n",
    "plt.legend();\n",
    "plt.title('gender');\n",
    "plt.show();"
   ]
  },
  {
   "cell_type": "code",
   "execution_count": null,
   "id": "e9fd4a02-45b8-4fa5-8903-5f36a9eba36e",
   "metadata": {},
   "outputs": [],
   "source": []
  },
  {
   "cell_type": "code",
   "execution_count": null,
   "id": "c41199f8-7f0f-4667-a325-0d1654d7707d",
   "metadata": {},
   "outputs": [],
   "source": []
  },
  {
   "cell_type": "code",
   "execution_count": null,
   "id": "d990e7db-da7f-4335-ad8e-c09959922941",
   "metadata": {},
   "outputs": [],
   "source": []
  },
  {
   "cell_type": "code",
   "execution_count": null,
   "id": "011ccedb-1d08-4493-b3cd-5dceceb3e520",
   "metadata": {},
   "outputs": [],
   "source": []
  },
  {
   "cell_type": "code",
   "execution_count": null,
   "id": "2ab43583-1e26-4224-af02-410a58e5eb32",
   "metadata": {},
   "outputs": [],
   "source": []
  },
  {
   "cell_type": "code",
   "execution_count": null,
   "id": "9e39e1b6-0ea5-4f58-bb61-2727f3b93d4e",
   "metadata": {},
   "outputs": [],
   "source": []
  },
  {
   "cell_type": "markdown",
   "id": "4a69f0e6-6918-4351-b045-3ec4b91fe623",
   "metadata": {},
   "source": [
    "### Calculate Class Probabilities"
   ]
  },
  {
   "cell_type": "code",
   "execution_count": 26,
   "id": "76ee9eec-a012-47a9-bc10-3a50a35e87db",
   "metadata": {},
   "outputs": [],
   "source": [
    "# first change age to a binary category\n",
    "promotion_data = clean_dataset\n",
    "promotion_data['age'] = np.where(promotion_data['age'] <= 35, 0, 1)\n",
    "\n",
    "promo_data = promotion_data.loc[promotion_data[\"is_promoted\"] == 'Promoted']\n",
    "not_promo_data = promotion_data.loc[promotion_data[\"is_promoted\"] == 'Not Promoted']"
   ]
  },
  {
   "cell_type": "code",
   "execution_count": 27,
   "id": "a6c51b4e-13d8-4011-a634-4e0ebda24b40",
   "metadata": {},
   "outputs": [
    {
     "name": "stdout",
     "output_type": "stream",
     "text": [
      "Count of Employees: 54808\n",
      "Count of Promoted Employees: 4668\n",
      "Count of Not Promoted Employees: 50140\n",
      "\n",
      "P(Promoted) = 0.08517004816815063\n",
      "P(Not_Promoted) = 0.9148299518318493\n"
     ]
    }
   ],
   "source": [
    "## Calculate Prior Probability: P(Promoted) and P(Not Promoted)\n",
    "\n",
    "n_employees = clean_dataset['is_promoted'].count()\n",
    "n_promo = promo_data.count()[0]\n",
    "n_not_promo = not_promo_data.count()[0]\n",
    "\n",
    "print('Count of Employees:', n_employees)\n",
    "print('Count of Promoted Employees:', n_promo)\n",
    "print('Count of Not Promoted Employees:', n_not_promo)\n",
    "\n",
    "P_promo = n_promo / n_employees\n",
    "P_not_promo = n_not_promo / n_employees\n",
    "\n",
    "print('\\nP(Promoted) =', P_promo)\n",
    "print('P(Not_Promoted) =', P_not_promo)"
   ]
  },
  {
   "cell_type": "code",
   "execution_count": 43,
   "id": "20f2aaa1-2778-45d3-9103-8615fa51694c",
   "metadata": {},
   "outputs": [],
   "source": [
    "## Create a function to calculate P(class|is_promoted)\n",
    "\n",
    "def Counts_by_class(feature, n_class, cl_names):\n",
    "    promo_lst = np.sort(promo_data[feature].unique())\n",
    "    for i in promo_lst:\n",
    "        count_class_promo = promo_data.loc[promo_data[feature] == i].count()[0]\n",
    "        print('Count of Promoted', cl_names[i], ':', count_class_promo)\n",
    "    \n",
    "    notpromo_lst = np.sort(not_promo_data[feature].unique())           \n",
    "    for j in notpromo_lst:\n",
    "        count_class_notpromo = not_promo_data.loc[not_promo_data[feature] == j].count()[0]\n",
    "        print('Count of Not Promoted', cl_names[j], ':', count_class_notpromo)\n",
    "\n",
    "            \n",
    "\n",
    "def Prob_by_class(feature, n_class, cl_names):\n",
    "    \n",
    "    \n",
    "    \n",
    "# P_under30_promo = n_under30_promo / n_promo\n",
    "# P_over30_promo = n_over30_promo / n_promo\n",
    "\n",
    "# P_under30_npromo = n_under30_promo / n_not_promo\n",
    "# P_over30_npromo = n_over30_promo / n_not_promo\n",
    "\n",
    "# print('\\nP(≤ 30|Promoted) =', P_under30_promo)\n",
    "# print('P(> 30|Promoted) =', P_over30_promo)\n",
    "# print('P(≤ 30|Not_Promoted) =', P_under30_npromo)\n",
    "# print('P(> 30|Not_Promoted) =', P_over30_npromo)\n"
   ]
  },
  {
   "cell_type": "code",
   "execution_count": 44,
   "id": "937648ed-3345-49fa-99d0-36a2169990f7",
   "metadata": {},
   "outputs": [
    {
     "name": "stdout",
     "output_type": "stream",
     "text": [
      "Class: gender\n",
      "Count of Promoted Female : 1467\n",
      "Count of Promoted Male : 3201\n",
      "Count of Not Promoted Female : 14845\n",
      "Count of Not Promoted Male : 35295\n",
      "\n",
      "Class: age\n",
      "Count of Promoted ≤ 35 : 3045\n",
      "Count of Promoted > 35 : 1623\n",
      "Count of Not Promoted ≤ 35 : 31138\n",
      "Count of Not Promoted > 35 : 19002\n",
      "\n",
      "Class: education\n",
      "Count of Promoted None : 122\n",
      "Count of Promoted Below Secondary : 67\n",
      "Count of Promoted Bachelor's : 3008\n",
      "Count of Promoted Master's : 1471\n",
      "Count of Not Promoted None : 2287\n",
      "Count of Not Promoted Below Secondary : 738\n",
      "Count of Not Promoted Bachelor's : 33661\n",
      "Count of Not Promoted Master's : 13454\n"
     ]
    }
   ],
   "source": [
    "print('Class: gender')\n",
    "Counts_by_class('gender', len(promotion_data['gender'].unique()), ['Female', 'Male'])\n",
    "print('\\nClass: age')\n",
    "Counts_by_class('age', len(promotion_data['age'].unique()), ['≤ 35', '> 35'])\n",
    "print('\\nClass: education')\n",
    "Counts_by_class('education', len(promotion_data['education'].unique()), ['None', 'Below Secondary', \"Bachelor's\", \"Master's\"])\n"
   ]
  },
  {
   "cell_type": "code",
   "execution_count": null,
   "id": "1a15e52a-028e-4818-95eb-0e907ca5a08c",
   "metadata": {},
   "outputs": [],
   "source": [
    "# Count of Promoted Master's: 122\n",
    "# Count of Promoted Bachelor's: 67\n",
    "# Count of Promoted Below Secondary: 3008\n",
    "# Count of Promoted None: 1471\n",
    "# Count of Not Promoted Master's: 2287\n",
    "# Count of Not Promoted Bachelor's: 738\n",
    "# Count of Not Promoted Below Secondary: 33661\n",
    "# Count of Not Promoted None: 13454"
   ]
  },
  {
   "cell_type": "code",
   "execution_count": null,
   "id": "99c6ea12-8966-43fa-a870-43dc103cb78f",
   "metadata": {},
   "outputs": [],
   "source": []
  },
  {
   "cell_type": "code",
   "execution_count": null,
   "id": "bb351774-c100-4a15-88ef-07a916c819ba",
   "metadata": {},
   "outputs": [],
   "source": []
  },
  {
   "cell_type": "code",
   "execution_count": 39,
   "id": "e3c1fa7e-ef47-4209-968c-60a942a21b67",
   "metadata": {},
   "outputs": [
    {
     "name": "stdout",
     "output_type": "stream",
     "text": [
      "Count of Promoted ≤ 30: 3045\n",
      "Count of Promoted > 30: 1623\n",
      "Count of Not Promoted ≤ 30: 31138\n",
      "Count of Not Promoted > 30: 19002\n",
      "\n",
      "P(≤ 30|Promoted) = 0.6523136246786633\n",
      "P(> 30|Promoted) = 0.3476863753213368\n",
      "P(≤ 30|Not_Promoted) = 0.060729956122856005\n",
      "P(> 30|Not_Promoted) = 0.032369365775827684\n"
     ]
    }
   ],
   "source": [
    "## Calculate P(age|is_promoted)\n",
    "\n",
    "n_under30_promo = promo_data.loc[promo_data[\"age\"] <= 35].count()[0]\n",
    "n_over30_promo = promo_data.loc[promo_data[\"age\"] > 35].count()[0]\n",
    "\n",
    "n_under30_npromo = not_promo_data.loc[not_promo_data[\"age\"] <= 35].count()[0]\n",
    "n_over30_npromo = not_promo_data.loc[not_promo_data[\"age\"] > 35].count()[0]\n",
    "\n",
    "print('Count of Promoted ≤ 30:', n_under30_promo)\n",
    "print('Count of Promoted > 30:', n_over30_promo)\n",
    "print('Count of Not Promoted ≤ 30:', n_under30_npromo)\n",
    "print('Count of Not Promoted > 30:', n_over30_npromo)\n",
    "\n",
    "P_under30_promo = n_under30_promo / n_promo\n",
    "P_over30_promo = n_over30_promo / n_promo\n",
    "\n",
    "P_under30_npromo = n_under30_promo / n_not_promo\n",
    "P_over30_npromo = n_over30_promo / n_not_promo\n",
    "\n",
    "print('\\nP(≤ 30|Promoted) =', P_under30_promo)\n",
    "print('P(> 30|Promoted) =', P_over30_promo)\n",
    "print('P(≤ 30|Not_Promoted) =', P_under30_npromo)\n",
    "print('P(> 30|Not_Promoted) =', P_over30_npromo)"
   ]
  },
  {
   "cell_type": "code",
   "execution_count": 41,
   "id": "4888493a-35c6-4d20-b8e3-d4e1ec7e98f1",
   "metadata": {},
   "outputs": [
    {
     "name": "stdout",
     "output_type": "stream",
     "text": [
      "Count of Promoted Males: 3201\n",
      "Count of Promoted Females: 1467\n",
      "Count of Not Promoted Males: 35295\n",
      "Count of Not Promoted Females: 14845\n",
      "\n",
      "P(Male|Promoted) = 0.6857326478149101\n",
      "P(Female|Promoted) = 0.31426735218509\n",
      "P(Male|Not_Promoted) = 0.7039289988033506\n",
      "P(Female|Not_Promoted) = 0.7039289988033506\n"
     ]
    }
   ],
   "source": [
    "## Calculate P(gender|is_promoted)\n",
    "\n",
    "n_m_promo = promo_data.loc[promo_data[\"gender\"] == 1].count()[0]\n",
    "n_f_promo = promo_data.loc[promo_data[\"gender\"] == 0].count()[0]\n",
    "\n",
    "n_m_npromo = not_promo_data.loc[not_promo_data[\"gender\"] == 1].count()[0]\n",
    "n_f_npromo = not_promo_data.loc[not_promo_data[\"gender\"] == 0].count()[0]\n",
    "\n",
    "print('Count of Promoted Males:', n_m_promo)\n",
    "print('Count of Promoted Females:', n_f_promo)\n",
    "print('Count of Not Promoted Males:', n_m_npromo)\n",
    "print('Count of Not Promoted Females:', n_f_npromo)\n",
    "\n",
    "P_m_promo = n_m_promo / n_promo\n",
    "P_f_promo = n_f_promo / n_promo\n",
    "\n",
    "P_m_npromo = n_m_npromo / n_not_promo\n",
    "P_f_npromo = n_m_npromo / n_not_promo\n",
    "\n",
    "print('\\nP(Male|Promoted) =', P_m_promo)\n",
    "print('P(Female|Promoted) =', P_f_promo)\n",
    "print('P(Male|Not_Promoted) =', P_m_npromo)\n",
    "print('P(Female|Not_Promoted) =', P_f_npromo)"
   ]
  },
  {
   "cell_type": "code",
   "execution_count": 45,
   "id": "94150605-482d-440c-804d-6312d6958dbe",
   "metadata": {},
   "outputs": [
    {
     "name": "stdout",
     "output_type": "stream",
     "text": [
      "Count of Promoted Master's: 122\n",
      "Count of Promoted Bachelor's: 67\n",
      "Count of Promoted Below Secondary: 3008\n",
      "Count of Promoted None: 1471\n",
      "Count of Not Promoted Master's: 2287\n",
      "Count of Not Promoted Bachelor's: 738\n",
      "Count of Not Promoted Below Secondary: 33661\n",
      "Count of Not Promoted None: 13454\n",
      "\n",
      "P(Master's|Promoted) = 0.026135389888603255\n",
      "P(Bachelor's|Promoted) = 0.014353041988003428\n",
      "P(Below Secondary|Promoted) = 0.6443873179091688\n",
      "P(None|Promoted) = 0.3151242502142245\n",
      "P(Master's|Not_Promoted) = 0.04561228560031911\n",
      "P(Bachelor's|Not_Promoted) = 0.014718787395293179\n",
      "P(Below Secondary|Promoted) = 0.6713402473075389\n",
      "P(None|Promoted) = 0.2683286796968488\n"
     ]
    }
   ],
   "source": [
    "## Calculate P(education|is_promoted)\n",
    "\n",
    "n_mast_promo = promo_data.loc[promo_data[\"education\"] == 0].count()[0]\n",
    "n_bach_promo = promo_data.loc[promo_data[\"education\"] == 1].count()[0]\n",
    "n_sec_promo = promo_data.loc[promo_data[\"education\"] == 2].count()[0]\n",
    "n_none_promo = promo_data.loc[promo_data[\"education\"] == 3].count()[0]\n",
    "\n",
    "n_mast_npromo = not_promo_data.loc[not_promo_data[\"education\"] == 0].count()[0]\n",
    "n_bach_npromo = not_promo_data.loc[not_promo_data[\"education\"] == 1].count()[0]\n",
    "n_sec_npromo = not_promo_data.loc[not_promo_data[\"education\"] == 2].count()[0]\n",
    "n_none_npromo = not_promo_data.loc[not_promo_data[\"education\"] == 3].count()[0]\n",
    "\n",
    "\n",
    "print(\"Count of Promoted Master's:\", n_mast_promo)\n",
    "print(\"Count of Promoted Bachelor's:\", n_bach_promo)\n",
    "print(\"Count of Promoted Below Secondary:\", n_sec_promo)\n",
    "print(\"Count of Promoted None:\", n_none_promo)\n",
    "\n",
    "print(\"Count of Not Promoted Master's:\", n_mast_npromo)\n",
    "print(\"Count of Not Promoted Bachelor's:\", n_bach_npromo)\n",
    "print(\"Count of Not Promoted Below Secondary:\", n_sec_npromo)\n",
    "print(\"Count of Not Promoted None:\", n_none_npromo)\n",
    "\n",
    "P_mast_promo = n_mast_promo / n_promo\n",
    "P_bach_promo = n_bach_promo / n_promo\n",
    "P_sec_promo = n_sec_promo / n_promo\n",
    "P_none_promo = n_noed_promo / n_promo\n",
    "\n",
    "P_mast_npromo = n_mast_npromo / n_not_promo\n",
    "P_bach_npromo = n_bach_npromo / n_not_promo\n",
    "P_sec_npromo = n_sec_npromo / n_not_promo\n",
    "P_none_npromo = n_noed_npromo / n_not_promo\n",
    "\n",
    "\n",
    "print(\"\\nP(Master's|Promoted) =\", P_mast_promo)\n",
    "print(\"P(Bachelor's|Promoted) =\", P_bach_promo)\n",
    "print(\"P(Below Secondary|Promoted) =\", P_sec_promo)\n",
    "print(\"P(None|Promoted) =\", P_none_promo)\n",
    "\n",
    "print(\"P(Master's|Not_Promoted) =\", P_mast_npromo)\n",
    "print(\"P(Bachelor's|Not_Promoted) =\", P_bach_npromo)\n",
    "print(\"P(Below Secondary|Promoted) =\", P_sec_npromo)\n",
    "print(\"P(None|Promoted) =\", P_none_npromo)\n"
   ]
  },
  {
   "cell_type": "code",
   "execution_count": null,
   "id": "a6dc3ddd-9a30-4112-973c-24ebe3aba691",
   "metadata": {},
   "outputs": [],
   "source": []
  },
  {
   "cell_type": "code",
   "execution_count": null,
   "id": "9a4ac222-b4ef-4163-b9b1-b1d1e5e6986e",
   "metadata": {},
   "outputs": [],
   "source": []
  },
  {
   "cell_type": "markdown",
   "id": "af53f032-704c-4ab8-81f4-7af01f6c6b70",
   "metadata": {},
   "source": [
    "$\\leq$"
   ]
  },
  {
   "cell_type": "code",
   "execution_count": null,
   "id": "8f6da6be-c208-4fe3-8dfd-17a0010c7e1b",
   "metadata": {},
   "outputs": [],
   "source": []
  },
  {
   "cell_type": "markdown",
   "id": "d6dacbb4-7589-491d-989b-5f30c32b02b3",
   "metadata": {},
   "source": [
    "### References"
   ]
  },
  {
   "cell_type": "markdown",
   "id": "478dda75-efc8-4523-9f2d-a6959c98239d",
   "metadata": {},
   "source": [
    "MÖBIUS. (2021, January 10). HR Analytics: Employee Promotion Data. Kaggle. https://www.kaggle.com/datasets/arashnic/hr-ana  \n",
    "\n",
    "Banerjee, P. (2020, August 27). Naive Bayes Classifier in Python. Kaggle. https://www.kaggle.com/code/prashant111/naive-bayes-classifier-in-python  \n",
    "\n",
    "AssemblyAI. (2022, September 17). How to implement Naive Bayes from scratch with Python. Youtube. https://www.youtube.com/watch?v=TLInuAorxqE  \n",
    "\n",
    "Educational Research Techniques. (2022, May 6). Naive Bayes with Python. Youtube. https://www.youtube.com/watch?v=Q93IWdj5Td4  \n",
    "\n"
   ]
  },
  {
   "cell_type": "code",
   "execution_count": null,
   "id": "8cf5ac90-bb5a-47b8-b8bb-5e19303cb5ee",
   "metadata": {},
   "outputs": [],
   "source": []
  }
 ],
 "metadata": {
  "kernelspec": {
   "display_name": "Python 3 (ipykernel)",
   "language": "python",
   "name": "python3"
  },
  "language_info": {
   "codemirror_mode": {
    "name": "ipython",
    "version": 3
   },
   "file_extension": ".py",
   "mimetype": "text/x-python",
   "name": "python",
   "nbconvert_exporter": "python",
   "pygments_lexer": "ipython3",
   "version": "3.10.8"
  }
 },
 "nbformat": 4,
 "nbformat_minor": 5
}
